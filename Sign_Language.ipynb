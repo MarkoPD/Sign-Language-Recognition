{
  "nbformat": 4,
  "nbformat_minor": 0,
  "metadata": {
    "colab": {
      "name": "Sign-Language.ipynb",
      "version": "0.3.2",
      "provenance": [],
      "collapsed_sections": []
    },
    "kernelspec": {
      "name": "python3",
      "display_name": "Python 3"
    }
  },
  "cells": [
    {
      "cell_type": "code",
      "metadata": {
        "id": "-5IYfPM13ody",
        "colab_type": "code",
        "colab": {
          "base_uri": "https://localhost:8080/",
          "height": 187
        },
        "outputId": "7cf58e55-4ca9-49a6-e844-284706bcb244"
      },
      "source": [
        "!pip install PyDrive"
      ],
      "execution_count": 557,
      "outputs": [
        {
          "output_type": "stream",
          "text": [
            "Requirement already satisfied: PyDrive in /usr/local/lib/python3.6/dist-packages (1.3.1)\n",
            "Requirement already satisfied: google-api-python-client>=1.2 in /usr/local/lib/python3.6/dist-packages (from PyDrive) (1.6.7)\n",
            "Requirement already satisfied: oauth2client>=4.0.0 in /usr/local/lib/python3.6/dist-packages (from PyDrive) (4.1.3)\n",
            "Requirement already satisfied: PyYAML>=3.0 in /usr/local/lib/python3.6/dist-packages (from PyDrive) (3.13)\n",
            "Requirement already satisfied: httplib2<1dev,>=0.9.2 in /usr/local/lib/python3.6/dist-packages (from google-api-python-client>=1.2->PyDrive) (0.11.3)\n",
            "Requirement already satisfied: six<2dev,>=1.6.1 in /usr/local/lib/python3.6/dist-packages (from google-api-python-client>=1.2->PyDrive) (1.12.0)\n",
            "Requirement already satisfied: uritemplate<4dev,>=3.0.0 in /usr/local/lib/python3.6/dist-packages (from google-api-python-client>=1.2->PyDrive) (3.0.0)\n",
            "Requirement already satisfied: pyasn1>=0.1.7 in /usr/local/lib/python3.6/dist-packages (from oauth2client>=4.0.0->PyDrive) (0.4.5)\n",
            "Requirement already satisfied: rsa>=3.1.4 in /usr/local/lib/python3.6/dist-packages (from oauth2client>=4.0.0->PyDrive) (4.0)\n",
            "Requirement already satisfied: pyasn1-modules>=0.0.5 in /usr/local/lib/python3.6/dist-packages (from oauth2client>=4.0.0->PyDrive) (0.2.5)\n"
          ],
          "name": "stdout"
        }
      ]
    },
    {
      "cell_type": "code",
      "metadata": {
        "id": "AuG5Q88L3_4r",
        "colab_type": "code",
        "colab": {}
      },
      "source": [
        "import os\n",
        "from pydrive.auth import GoogleAuth\n",
        "from pydrive.drive import GoogleDrive\n",
        "from google.colab import auth\n",
        "from oauth2client.client import GoogleCredentials"
      ],
      "execution_count": 0,
      "outputs": []
    },
    {
      "cell_type": "code",
      "metadata": {
        "id": "KXWMbXv64DtF",
        "colab_type": "code",
        "colab": {}
      },
      "source": [
        "auth.authenticate_user()\n",
        "gauth = GoogleAuth()\n",
        "gauth.credentials = GoogleCredentials.get_application_default()\n",
        "drive = GoogleDrive(gauth)"
      ],
      "execution_count": 0,
      "outputs": []
    },
    {
      "cell_type": "code",
      "metadata": {
        "id": "_3C3FgnO4Gu5",
        "colab_type": "code",
        "colab": {}
      },
      "source": [
        "download = drive.CreateFile({'id': '1FMYnVj7N02DBBxFqykIUEY_p01BY79fE'})"
      ],
      "execution_count": 0,
      "outputs": []
    },
    {
      "cell_type": "code",
      "metadata": {
        "id": "ykYvLV5_4r1h",
        "colab_type": "code",
        "colab": {}
      },
      "source": [
        "download.GetContentFile('sign_mnist_train.csv')"
      ],
      "execution_count": 0,
      "outputs": []
    },
    {
      "cell_type": "code",
      "metadata": {
        "id": "YnQ8qmGz45gW",
        "colab_type": "code",
        "colab": {}
      },
      "source": [
        "import keras\n",
        "from keras.models import Sequential\n",
        "from keras.layers import Dense, Dropout, Flatten\n",
        "from keras.layers import Conv2D, MaxPooling2D\n",
        "from keras.utils import to_categorical\n",
        "from keras.preprocessing import image\n",
        "from keras.preprocessing.image import ImageDataGenerator\n",
        "from keras.optimizers import SGD\n",
        "import numpy as np\n",
        "import pandas as pd\n",
        "import matplotlib.pyplot as plt\n",
        "from sklearn.model_selection import train_test_split\n",
        "from keras.utils import to_categorical\n",
        "from tqdm import tqdm\n",
        "from IPython.display import SVG\n",
        "from keras.utils.vis_utils import model_to_dot\n",
        "import pydot"
      ],
      "execution_count": 0,
      "outputs": []
    },
    {
      "cell_type": "code",
      "metadata": {
        "id": "BHVKOfTX7glS",
        "colab_type": "code",
        "colab": {}
      },
      "source": [
        "train = pd.read_csv('sign_mnist_train.csv', header=0)"
      ],
      "execution_count": 0,
      "outputs": []
    },
    {
      "cell_type": "code",
      "metadata": {
        "id": "LE6AFhVeH87j",
        "colab_type": "code",
        "colab": {}
      },
      "source": [
        "download = drive.CreateFile({'id': '1jNwbta8bjZlG28Tf9nMHRToPG5bNkZt3'})"
      ],
      "execution_count": 0,
      "outputs": []
    },
    {
      "cell_type": "code",
      "metadata": {
        "id": "hk4B9EFqIFEl",
        "colab_type": "code",
        "colab": {}
      },
      "source": [
        "download.GetContentFile('sign_mnist_test.csv')"
      ],
      "execution_count": 0,
      "outputs": []
    },
    {
      "cell_type": "code",
      "metadata": {
        "id": "ztYl0SSoIMYw",
        "colab_type": "code",
        "colab": {}
      },
      "source": [
        "test = pd.read_csv('sign_mnist_test.csv', header=0)"
      ],
      "execution_count": 0,
      "outputs": []
    },
    {
      "cell_type": "code",
      "metadata": {
        "id": "3QaLmbPVIgKj",
        "colab_type": "code",
        "colab": {}
      },
      "source": [
        "y_train = train['label'].values\n",
        "y_test = test['label'].values"
      ],
      "execution_count": 0,
      "outputs": []
    },
    {
      "cell_type": "code",
      "metadata": {
        "id": "z14ADb1k7ms1",
        "colab_type": "code",
        "colab": {}
      },
      "source": [
        "# We have grayscale images, so while loading the images we will keep grayscale=True, if you have RGB images, you should set grayscale as False\n",
        "X_train = train.drop(['label'],axis=1)\n",
        "X_test = test.drop(['label'], axis=1)\n",
        "\n",
        "X_train = np.array(X_train.iloc[:,:])\n",
        "X_train = np.array([np.reshape(i, (28,28)) for i in X_train])\n",
        "\n",
        "X_test = np.array(X_test.iloc[:,:])\n",
        "X_test = np.array([np.reshape(i, (28,28)) for i in X_test])\n",
        "\n",
        "#for i in tqdm(range(train.shape[0])):\n",
        "#    img = image.load_img('train/'+ train[i].astype('str')+'.png', target_size=(28,28,1), grayscale=False)\n",
        "#    img = image.img_to_array(image)\n",
        "#    img = img/255\n",
        "#    train_image.append(img)\n",
        "#X = np.array(train_image)"
      ],
      "execution_count": 0,
      "outputs": []
    },
    {
      "cell_type": "code",
      "metadata": {
        "id": "GDaC8riDCjhS",
        "colab_type": "code",
        "colab": {}
      },
      "source": [
        "num_classes = 26\n",
        "y_train = np.array(y_train).reshape(-1)\n",
        "y_test = np.array(y_test).reshape(-1)\n",
        "\n",
        "y_train = np.eye(num_classes)[y_train]\n",
        "y_test = np.eye(num_classes)[y_test]"
      ],
      "execution_count": 0,
      "outputs": []
    },
    {
      "cell_type": "code",
      "metadata": {
        "id": "IqDN752EIxm5",
        "colab_type": "code",
        "colab": {
          "base_uri": "https://localhost:8080/",
          "height": 119
        },
        "outputId": "b110ed08-dad7-4e78-9447-de76ee5ad8d5"
      },
      "source": [
        "print('Training examples:',X_train.shape[0])\n",
        "print('Test examples:',X_test.shape[0])\n",
        "\n",
        "print('X_train shape\"',X_train.shape)\n",
        "print('y_train shape\"',y_train.shape)\n",
        "print('X_test shape\"',X_test.shape)\n",
        "print('y_test shape\"',y_test.shape)"
      ],
      "execution_count": 570,
      "outputs": [
        {
          "output_type": "stream",
          "text": [
            "Training examples: 27455\n",
            "Test examples: 7172\n",
            "X_train shape\" (27455, 28, 28)\n",
            "y_train shape\" (27455, 26)\n",
            "X_test shape\" (7172, 28, 28)\n",
            "y_test shape\" (7172, 26)\n"
          ],
          "name": "stdout"
        }
      ]
    },
    {
      "cell_type": "code",
      "metadata": {
        "id": "q9akZxSCI1ht",
        "colab_type": "code",
        "colab": {}
      },
      "source": [
        "\n",
        "X_train = X_train.reshape((27455, 28, 28, 1))\n",
        "X_test = X_test.reshape((7172, 28, 28, 1))"
      ],
      "execution_count": 0,
      "outputs": []
    },
    {
      "cell_type": "code",
      "metadata": {
        "id": "SWe9ZEKrJCHF",
        "colab_type": "code",
        "colab": {}
      },
      "source": [
        "def model():\n",
        "  classifier = Sequential()\n",
        "  classifier.add(Convolution2D(filters=8, kernel_size=(3,3),strides=(1,1),padding='same',input_shape=(28,28,1),activation='relu', data_format='channels_last'))\n",
        "  classifier.add(MaxPooling2D(pool_size=(2,2)))\n",
        "  classifier.add(Convolution2D(filters=16, kernel_size=(3,3),strides=(1,1),padding='same',activation='relu'))\n",
        "  classifier.add(MaxPooling2D(pool_size=(4,4)))\n",
        "  classifier.add(Flatten())\n",
        "  classifier.add(Dense(128, activation='relu'))\n",
        "  classifier.add(Dense(26, activation='softmax'))\n",
        "  classifier.compile(optimizer='rmsprop', loss='categorical_crossentropy', metrics=['accuracy'])\n",
        "  return classifier"
      ],
      "execution_count": 0,
      "outputs": []
    },
    {
      "cell_type": "code",
      "metadata": {
        "id": "bw53ss24JIM0",
        "colab_type": "code",
        "colab": {}
      },
      "source": [
        "classifier = model()"
      ],
      "execution_count": 0,
      "outputs": []
    },
    {
      "cell_type": "code",
      "metadata": {
        "id": "GNEKPTWIJL5J",
        "colab_type": "code",
        "colab": {
          "base_uri": "https://localhost:8080/",
          "height": 374
        },
        "outputId": "223857a1-f6f7-4ff6-d3c9-918290a0de96"
      },
      "source": [
        "classifier.summary()"
      ],
      "execution_count": 574,
      "outputs": [
        {
          "output_type": "stream",
          "text": [
            "_________________________________________________________________\n",
            "Layer (type)                 Output Shape              Param #   \n",
            "=================================================================\n",
            "conv2d_101 (Conv2D)          (None, 28, 28, 8)         80        \n",
            "_________________________________________________________________\n",
            "max_pooling2d_101 (MaxPoolin (None, 14, 14, 8)         0         \n",
            "_________________________________________________________________\n",
            "conv2d_102 (Conv2D)          (None, 14, 14, 16)        1168      \n",
            "_________________________________________________________________\n",
            "max_pooling2d_102 (MaxPoolin (None, 3, 3, 16)          0         \n",
            "_________________________________________________________________\n",
            "flatten_51 (Flatten)         (None, 144)               0         \n",
            "_________________________________________________________________\n",
            "dense_100 (Dense)            (None, 128)               18560     \n",
            "_________________________________________________________________\n",
            "dense_101 (Dense)            (None, 26)                3354      \n",
            "=================================================================\n",
            "Total params: 23,162\n",
            "Trainable params: 23,162\n",
            "Non-trainable params: 0\n",
            "_________________________________________________________________\n"
          ],
          "name": "stdout"
        }
      ]
    },
    {
      "cell_type": "code",
      "metadata": {
        "id": "pzDUp9A7JRd9",
        "colab_type": "code",
        "colab": {
          "base_uri": "https://localhost:8080/",
          "height": 3434
        },
        "outputId": "7323c72a-3d81-45bb-aa13-ec7b91eebf0c"
      },
      "source": [
        "classifier.fit(X_train, y_train, batch_size = 100, epochs = 100)"
      ],
      "execution_count": 575,
      "outputs": [
        {
          "output_type": "stream",
          "text": [
            "Epoch 1/100\n",
            "27455/27455 [==============================] - 14s 519us/step - loss: 1.9975 - acc: 0.4757\n",
            "Epoch 2/100\n",
            "27455/27455 [==============================] - 11s 418us/step - loss: 0.3775 - acc: 0.8758\n",
            "Epoch 3/100\n",
            "27455/27455 [==============================] - 12s 420us/step - loss: 0.1143 - acc: 0.9653\n",
            "Epoch 4/100\n",
            "27455/27455 [==============================] - 11s 418us/step - loss: 0.0600 - acc: 0.9832\n",
            "Epoch 5/100\n",
            "27455/27455 [==============================] - 12s 431us/step - loss: 0.0413 - acc: 0.9895\n",
            "Epoch 6/100\n",
            "27455/27455 [==============================] - 11s 419us/step - loss: 0.0300 - acc: 0.9918\n",
            "Epoch 7/100\n",
            "27455/27455 [==============================] - 11s 418us/step - loss: 0.0297 - acc: 0.9921\n",
            "Epoch 8/100\n",
            "27455/27455 [==============================] - 12s 421us/step - loss: 0.0207 - acc: 0.9940\n",
            "Epoch 9/100\n",
            "27455/27455 [==============================] - 11s 418us/step - loss: 0.0156 - acc: 0.9957\n",
            "Epoch 10/100\n",
            "27455/27455 [==============================] - 12s 423us/step - loss: 0.0152 - acc: 0.9956\n",
            "Epoch 11/100\n",
            "27455/27455 [==============================] - 11s 419us/step - loss: 0.0225 - acc: 0.9953\n",
            "Epoch 12/100\n",
            "27455/27455 [==============================] - 12s 420us/step - loss: 0.0105 - acc: 0.9970\n",
            "Epoch 13/100\n",
            "27455/27455 [==============================] - 12s 422us/step - loss: 0.0123 - acc: 0.9965\n",
            "Epoch 14/100\n",
            "27455/27455 [==============================] - 12s 419us/step - loss: 0.0113 - acc: 0.9972\n",
            "Epoch 15/100\n",
            "27455/27455 [==============================] - 11s 418us/step - loss: 0.0108 - acc: 0.9974\n",
            "Epoch 16/100\n",
            "27455/27455 [==============================] - 11s 419us/step - loss: 0.0104 - acc: 0.9977\n",
            "Epoch 17/100\n",
            "27455/27455 [==============================] - 12s 421us/step - loss: 0.0086 - acc: 0.9984\n",
            "Epoch 18/100\n",
            "27455/27455 [==============================] - 12s 420us/step - loss: 0.0129 - acc: 0.9969\n",
            "Epoch 19/100\n",
            "27455/27455 [==============================] - 12s 419us/step - loss: 0.0103 - acc: 0.9980\n",
            "Epoch 20/100\n",
            "27455/27455 [==============================] - 12s 420us/step - loss: 0.0145 - acc: 0.9967\n",
            "Epoch 21/100\n",
            "27455/27455 [==============================] - 11s 417us/step - loss: 0.0088 - acc: 0.9977\n",
            "Epoch 22/100\n",
            "27455/27455 [==============================] - 11s 419us/step - loss: 0.0076 - acc: 0.9980\n",
            "Epoch 23/100\n",
            "27455/27455 [==============================] - 12s 422us/step - loss: 0.0086 - acc: 0.9981\n",
            "Epoch 24/100\n",
            "27455/27455 [==============================] - 12s 420us/step - loss: 0.0117 - acc: 0.9976\n",
            "Epoch 25/100\n",
            "27455/27455 [==============================] - 12s 420us/step - loss: 0.0060 - acc: 0.9985\n",
            "Epoch 26/100\n",
            "27455/27455 [==============================] - 12s 419us/step - loss: 0.0087 - acc: 0.9980\n",
            "Epoch 27/100\n",
            "27455/27455 [==============================] - 12s 419us/step - loss: 0.0058 - acc: 0.9988\n",
            "Epoch 28/100\n",
            "27455/27455 [==============================] - 12s 421us/step - loss: 0.0091 - acc: 0.9981\n",
            "Epoch 29/100\n",
            "27455/27455 [==============================] - 11s 417us/step - loss: 0.0060 - acc: 0.9984\n",
            "Epoch 30/100\n",
            "27455/27455 [==============================] - 12s 419us/step - loss: 0.0052 - acc: 0.9989\n",
            "Epoch 31/100\n",
            "27455/27455 [==============================] - 12s 423us/step - loss: 0.0096 - acc: 0.9978\n",
            "Epoch 32/100\n",
            "27455/27455 [==============================] - 12s 433us/step - loss: 0.0040 - acc: 0.9991\n",
            "Epoch 33/100\n",
            "27455/27455 [==============================] - 12s 419us/step - loss: 0.0103 - acc: 0.9979\n",
            "Epoch 34/100\n",
            "27455/27455 [==============================] - 12s 420us/step - loss: 0.0056 - acc: 0.9985\n",
            "Epoch 35/100\n",
            "27455/27455 [==============================] - 12s 422us/step - loss: 0.0096 - acc: 0.9981\n",
            "Epoch 36/100\n",
            "27455/27455 [==============================] - 12s 420us/step - loss: 0.0048 - acc: 0.9988\n",
            "Epoch 37/100\n",
            "27455/27455 [==============================] - 12s 423us/step - loss: 0.0051 - acc: 0.9994\n",
            "Epoch 38/100\n",
            "27455/27455 [==============================] - 12s 423us/step - loss: 0.0063 - acc: 0.9985\n",
            "Epoch 39/100\n",
            "27455/27455 [==============================] - 12s 423us/step - loss: 0.0076 - acc: 0.9984\n",
            "Epoch 40/100\n",
            "27455/27455 [==============================] - 12s 422us/step - loss: 0.0039 - acc: 0.9992\n",
            "Epoch 41/100\n",
            "27455/27455 [==============================] - 12s 424us/step - loss: 0.0054 - acc: 0.9990\n",
            "Epoch 42/100\n",
            "27455/27455 [==============================] - 12s 420us/step - loss: 0.0036 - acc: 0.9994\n",
            "Epoch 43/100\n",
            "27455/27455 [==============================] - 12s 421us/step - loss: 0.0029 - acc: 0.9992\n",
            "Epoch 44/100\n",
            "27455/27455 [==============================] - 12s 424us/step - loss: 0.0053 - acc: 0.9991\n",
            "Epoch 45/100\n",
            "27455/27455 [==============================] - 12s 431us/step - loss: 0.0037 - acc: 0.9992\n",
            "Epoch 46/100\n",
            "27455/27455 [==============================] - 12s 425us/step - loss: 0.0097 - acc: 0.9980\n",
            "Epoch 47/100\n",
            "27455/27455 [==============================] - 12s 422us/step - loss: 0.0088 - acc: 0.9988\n",
            "Epoch 48/100\n",
            "27455/27455 [==============================] - 11s 418us/step - loss: 0.0077 - acc: 0.9984\n",
            "Epoch 49/100\n",
            "27455/27455 [==============================] - 12s 420us/step - loss: 0.0070 - acc: 0.9987\n",
            "Epoch 50/100\n",
            "27455/27455 [==============================] - 12s 420us/step - loss: 0.0088 - acc: 0.9987\n",
            "Epoch 51/100\n",
            "27455/27455 [==============================] - 11s 417us/step - loss: 0.0052 - acc: 0.9991\n",
            "Epoch 52/100\n",
            "27455/27455 [==============================] - 12s 420us/step - loss: 0.0046 - acc: 0.9991\n",
            "Epoch 53/100\n",
            "27455/27455 [==============================] - 11s 418us/step - loss: 0.0045 - acc: 0.9992\n",
            "Epoch 54/100\n",
            "27455/27455 [==============================] - 11s 418us/step - loss: 0.0086 - acc: 0.9985\n",
            "Epoch 55/100\n",
            "27455/27455 [==============================] - 12s 420us/step - loss: 0.0027 - acc: 0.9996\n",
            "Epoch 56/100\n",
            "27455/27455 [==============================] - 11s 417us/step - loss: 0.0079 - acc: 0.9983\n",
            "Epoch 57/100\n",
            "27455/27455 [==============================] - 12s 420us/step - loss: 0.0090 - acc: 0.9986\n",
            "Epoch 58/100\n",
            "27455/27455 [==============================] - 12s 420us/step - loss: 0.0064 - acc: 0.9988\n",
            "Epoch 59/100\n",
            "27455/27455 [==============================] - 12s 433us/step - loss: 0.0069 - acc: 0.9985\n",
            "Epoch 60/100\n",
            "27455/27455 [==============================] - 11s 418us/step - loss: 0.0044 - acc: 0.9990\n",
            "Epoch 61/100\n",
            "27455/27455 [==============================] - 12s 424us/step - loss: 0.0042 - acc: 0.9991\n",
            "Epoch 62/100\n",
            "27455/27455 [==============================] - 12s 422us/step - loss: 0.0086 - acc: 0.9987\n",
            "Epoch 63/100\n",
            "27455/27455 [==============================] - 12s 421us/step - loss: 0.0043 - acc: 0.9992\n",
            "Epoch 64/100\n",
            "27455/27455 [==============================] - 12s 421us/step - loss: 0.0071 - acc: 0.9987\n",
            "Epoch 65/100\n",
            "27455/27455 [==============================] - 12s 420us/step - loss: 0.0040 - acc: 0.9993\n",
            "Epoch 66/100\n",
            "27455/27455 [==============================] - 12s 423us/step - loss: 0.0033 - acc: 0.9993\n",
            "Epoch 67/100\n",
            "27455/27455 [==============================] - 12s 422us/step - loss: 0.0052 - acc: 0.9991\n",
            "Epoch 68/100\n",
            "27455/27455 [==============================] - 12s 421us/step - loss: 0.0027 - acc: 0.9992\n",
            "Epoch 69/100\n",
            "27455/27455 [==============================] - 12s 421us/step - loss: 0.0033 - acc: 0.9996\n",
            "Epoch 70/100\n",
            "27455/27455 [==============================] - 12s 422us/step - loss: 0.0023 - acc: 0.9996\n",
            "Epoch 71/100\n",
            "27455/27455 [==============================] - 12s 419us/step - loss: 0.0043 - acc: 0.9995\n",
            "Epoch 72/100\n",
            "27455/27455 [==============================] - 12s 420us/step - loss: 0.0032 - acc: 0.9994\n",
            "Epoch 73/100\n",
            "27455/27455 [==============================] - 12s 421us/step - loss: 0.0038 - acc: 0.9995\n",
            "Epoch 74/100\n",
            "27455/27455 [==============================] - 12s 421us/step - loss: 0.0052 - acc: 0.9990\n",
            "Epoch 75/100\n",
            "27455/27455 [==============================] - 12s 423us/step - loss: 0.0043 - acc: 0.9994\n",
            "Epoch 76/100\n",
            "27455/27455 [==============================] - 12s 422us/step - loss: 0.0047 - acc: 0.9992\n",
            "Epoch 77/100\n",
            "27455/27455 [==============================] - 12s 424us/step - loss: 0.0070 - acc: 0.9988\n",
            "Epoch 78/100\n",
            "27455/27455 [==============================] - 12s 423us/step - loss: 0.0039 - acc: 0.9996\n",
            "Epoch 79/100\n",
            "27455/27455 [==============================] - 12s 422us/step - loss: 9.3373e-04 - acc: 0.9998\n",
            "Epoch 80/100\n",
            "27455/27455 [==============================] - 12s 423us/step - loss: 0.0066 - acc: 0.9993\n",
            "Epoch 81/100\n",
            "27455/27455 [==============================] - 12s 421us/step - loss: 0.0064 - acc: 0.9989\n",
            "Epoch 82/100\n",
            "27455/27455 [==============================] - 12s 421us/step - loss: 0.0071 - acc: 0.9986\n",
            "Epoch 83/100\n",
            "27455/27455 [==============================] - 12s 420us/step - loss: 0.0021 - acc: 0.9996\n",
            "Epoch 84/100\n",
            "27455/27455 [==============================] - 12s 419us/step - loss: 0.0034 - acc: 0.9994\n",
            "Epoch 85/100\n",
            "27455/27455 [==============================] - 12s 423us/step - loss: 0.0032 - acc: 0.9996\n",
            "Epoch 86/100\n",
            "27455/27455 [==============================] - 12s 434us/step - loss: 0.0020 - acc: 0.9997\n",
            "Epoch 87/100\n",
            "27455/27455 [==============================] - 12s 426us/step - loss: 0.0036 - acc: 0.9995\n",
            "Epoch 88/100\n",
            "27455/27455 [==============================] - 12s 426us/step - loss: 0.0084 - acc: 0.9989\n",
            "Epoch 89/100\n",
            "27455/27455 [==============================] - 12s 420us/step - loss: 0.0051 - acc: 0.9992\n",
            "Epoch 90/100\n",
            "27455/27455 [==============================] - 12s 420us/step - loss: 0.0082 - acc: 0.9988\n",
            "Epoch 91/100\n",
            "27455/27455 [==============================] - 12s 421us/step - loss: 0.0046 - acc: 0.9993\n",
            "Epoch 92/100\n",
            "27455/27455 [==============================] - 12s 422us/step - loss: 0.0024 - acc: 0.9996\n",
            "Epoch 93/100\n",
            "27455/27455 [==============================] - 12s 422us/step - loss: 0.0015 - acc: 0.9996\n",
            "Epoch 94/100\n",
            "27455/27455 [==============================] - 12s 421us/step - loss: 0.0026 - acc: 0.9996\n",
            "Epoch 95/100\n",
            "27455/27455 [==============================] - 11s 418us/step - loss: 0.0049 - acc: 0.9992\n",
            "Epoch 96/100\n",
            "27455/27455 [==============================] - 11s 418us/step - loss: 0.0056 - acc: 0.9993\n",
            "Epoch 97/100\n",
            "27455/27455 [==============================] - 12s 421us/step - loss: 0.0013 - acc: 0.9998\n",
            "Epoch 98/100\n",
            "27455/27455 [==============================] - 12s 421us/step - loss: 0.0022 - acc: 0.9997\n",
            "Epoch 99/100\n",
            "27455/27455 [==============================] - 12s 421us/step - loss: 0.0034 - acc: 0.9997\n",
            "Epoch 100/100\n",
            "27455/27455 [==============================] - 12s 421us/step - loss: 0.0065 - acc: 0.9991\n"
          ],
          "name": "stdout"
        },
        {
          "output_type": "execute_result",
          "data": {
            "text/plain": [
              "<keras.callbacks.History at 0x7f1d6876c320>"
            ]
          },
          "metadata": {
            "tags": []
          },
          "execution_count": 575
        }
      ]
    },
    {
      "cell_type": "code",
      "metadata": {
        "id": "6sa5f76kK3U5",
        "colab_type": "code",
        "colab": {}
      },
      "source": [
        "y_pred = classifier.predict(X_test)"
      ],
      "execution_count": 0,
      "outputs": []
    },
    {
      "cell_type": "code",
      "metadata": {
        "id": "a1YrSo33Yvd7",
        "colab_type": "code",
        "colab": {
          "base_uri": "https://localhost:8080/",
          "height": 34
        },
        "outputId": "8a819927-9f6c-4da1-9463-0fb8a8992dcc"
      },
      "source": [
        "y_pred = np.argmax(y_pred, axis=1)\n",
        "y_pred"
      ],
      "execution_count": 577,
      "outputs": [
        {
          "output_type": "execute_result",
          "data": {
            "text/plain": [
              "array([ 6,  5, 10, ...,  2,  4,  2])"
            ]
          },
          "metadata": {
            "tags": []
          },
          "execution_count": 577
        }
      ]
    },
    {
      "cell_type": "code",
      "metadata": {
        "id": "rleyqcVjY6p4",
        "colab_type": "code",
        "colab": {
          "base_uri": "https://localhost:8080/",
          "height": 34
        },
        "outputId": "e566131d-3b5d-40e2-939d-522fb59ed9bf"
      },
      "source": [
        "y_test = np.array(test['label'].values)\n",
        "y_test"
      ],
      "execution_count": 578,
      "outputs": [
        {
          "output_type": "execute_result",
          "data": {
            "text/plain": [
              "array([ 6,  5, 10, ...,  2,  4,  2])"
            ]
          },
          "metadata": {
            "tags": []
          },
          "execution_count": 578
        }
      ]
    },
    {
      "cell_type": "code",
      "metadata": {
        "id": "RB7Cf4LYZBKL",
        "colab_type": "code",
        "colab": {
          "base_uri": "https://localhost:8080/",
          "height": 34
        },
        "outputId": "687049f6-2ef3-4bd5-b2cd-13feaf2c063d"
      },
      "source": [
        "from sklearn.metrics import accuracy_score\n",
        "accuracy_score(y_test, y_pred)"
      ],
      "execution_count": 579,
      "outputs": [
        {
          "output_type": "execute_result",
          "data": {
            "text/plain": [
              "0.8796709425543782"
            ]
          },
          "metadata": {
            "tags": []
          },
          "execution_count": 579
        }
      ]
    },
    {
      "cell_type": "code",
      "metadata": {
        "id": "FqQsaNq-ZG9h",
        "colab_type": "code",
        "colab": {}
      },
      "source": [
        ""
      ],
      "execution_count": 0,
      "outputs": []
    }
  ]
}